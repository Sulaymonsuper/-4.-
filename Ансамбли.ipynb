{
  "cells": [
    {
      "cell_type": "markdown",
      "id": "3085ec43-34bb-4afb-9515-517e0489db3e",
      "metadata": {
        "id": "3085ec43-34bb-4afb-9515-517e0489db3e"
      },
      "source": [
        "## Ансамбли и полносвязные нейронные сети\n",
        "В этом ноутбуке вам нужно обучить модели на датасете классификации из предыдущего ноутбука и сравнить результаты. Вам будет предоставлен baseline, на основе которого вы будете доделывать предсказывающие модели. Оценка лабы будет зависеть от ROC-AUC на тестовых данных по следующим критериям:\n",
        "\\\n",
        "AUC - на тестовых данных\n",
        "- $AUC \\leq 0.76$ - 0 баллов\n",
        "- $0.76 < AUC \\leq 0.77$ - 2 балла\n",
        "- $0.77 < AUC \\leq 0.78$ - 4 балла\n",
        "- $0.78 < AUC \\leq 0.79$ - 6 баллов\n",
        "- $0.79 < AUC \\leq 0.80$ - 8 баллов\n",
        "- $AUC > 0.80$ - 10 баллов\n"
      ]
    },
    {
      "cell_type": "code",
      "execution_count": 2,
      "id": "ec07e3a2-480a-4350-868e-02679ff2aada",
      "metadata": {
        "tags": [],
        "id": "ec07e3a2-480a-4350-868e-02679ff2aada"
      },
      "outputs": [],
      "source": [
        "from sklearn.ensemble import RandomForestClassifier, GradientBoostingClassifier\n",
        "from sklearn.neural_network import MLPClassifier\n",
        "\n",
        "from sklearn.metrics import roc_auc_score, precision_score, recall_score, roc_curve, accuracy_score\n",
        "\n",
        "from sklearn.model_selection import train_test_split\n",
        "\n",
        "import matplotlib.pyplot as plt\n",
        "import pandas as pd\n",
        "import numpy as np"
      ]
    },
    {
      "cell_type": "code",
      "execution_count": 5,
      "id": "563ad31b-5c83-4366-819a-34dad4edecdc",
      "metadata": {
        "tags": [],
        "colab": {
          "base_uri": "https://localhost:8080/"
        },
        "id": "563ad31b-5c83-4366-819a-34dad4edecdc",
        "outputId": "046c62c2-99dc-41ef-b9b0-911f28ad45c8"
      },
      "outputs": [
        {
          "output_type": "stream",
          "name": "stdout",
          "text": [
            "   Creditability  Account_Balance  Duration_of_Credit_monthly  \\\n",
            "0              1                1                          18   \n",
            "1              1                1                           9   \n",
            "2              1                2                          12   \n",
            "3              1                1                          12   \n",
            "4              1                1                          12   \n",
            "\n",
            "   Payment_Status_of_Previous_Credit  Purpose  Credit_Amount  \\\n",
            "0                                  4        2           1049   \n",
            "1                                  4        0           2799   \n",
            "2                                  2        9            841   \n",
            "3                                  4        0           2122   \n",
            "4                                  4        0           2171   \n",
            "\n",
            "   Value_Savings_Stocks  Length_of_current_employment  Instalment_per_cent  \\\n",
            "0                     1                             2                    4   \n",
            "1                     1                             3                    2   \n",
            "2                     2                             4                    2   \n",
            "3                     1                             3                    3   \n",
            "4                     1                             3                    4   \n",
            "\n",
            "   Sex_Marital_Status  ...  Duration_in_Current_address  \\\n",
            "0                   2  ...                            4   \n",
            "1                   3  ...                            2   \n",
            "2                   2  ...                            4   \n",
            "3                   3  ...                            2   \n",
            "4                   3  ...                            4   \n",
            "\n",
            "   Most_valuable_available_asset  Age_years  Concurrent_Credits  \\\n",
            "0                              2         21                   3   \n",
            "1                              1         36                   3   \n",
            "2                              1         23                   3   \n",
            "3                              1         39                   3   \n",
            "4                              2         38                   1   \n",
            "\n",
            "   Type_of_apartment  No_of_Credits_at_this_Bank  Occupation  \\\n",
            "0                  1                           1           3   \n",
            "1                  1                           2           3   \n",
            "2                  1                           1           2   \n",
            "3                  1                           2           2   \n",
            "4                  2                           2           2   \n",
            "\n",
            "   No_of_dependents  Telephone  Foreign_Worker  \n",
            "0                 1          1               1  \n",
            "1                 2          1               1  \n",
            "2                 1          1               1  \n",
            "3                 2          1               2  \n",
            "4                 1          1               2  \n",
            "\n",
            "[5 rows x 21 columns]\n"
          ]
        }
      ],
      "source": [
        "data = pd.read_csv('/content/german.csv', sep=';')\n",
        "print(data.head())\n",
        "\n",
        "X = data.iloc[:, 1:].to_numpy()\n",
        "y = data.iloc[:, 0].to_numpy()\n",
        "\n",
        "X_train, X_test, y_train, y_test = train_test_split(X, y, test_size=0.2, random_state=42)"
      ]
    },
    {
      "cell_type": "code",
      "execution_count": 6,
      "id": "f93737ec-e5eb-4d72-8beb-5dba4d4c581f",
      "metadata": {
        "tags": [],
        "colab": {
          "base_uri": "https://localhost:8080/",
          "height": 472
        },
        "id": "f93737ec-e5eb-4d72-8beb-5dba4d4c581f",
        "outputId": "ee6952b2-27fc-4a74-ceaf-687fedb72126"
      },
      "outputs": [
        {
          "output_type": "display_data",
          "data": {
            "text/plain": [
              "<Figure size 640x480 with 1 Axes>"
            ],
            "image/png": "[encoded data removed]"
          },
          "metadata": {}
        }
      ],
      "source": [
        "plt.hist(y_train, bins=2, edgecolor='k')\n",
        "plt.xlabel('Class (0: Non-Creditworthy, 1: Creditworthy)')\n",
        "plt.ylabel('Count')\n",
        "plt.title('Distribution of Classes in Training Data')\n",
        "plt.show()"
      ]
    },
    {
      "cell_type": "code",
      "execution_count": 10,
      "id": "c1cf8d00-92a3-4b62-bca4-d854b72574d1",
      "metadata": {
        "tags": [],
        "colab": {
          "base_uri": "https://localhost:8080/"
        },
        "id": "c1cf8d00-92a3-4b62-bca4-d854b72574d1",
        "outputId": "286fd391-b87d-4157-8349-f155f947ec5c"
      },
      "outputs": [
        {
          "output_type": "stream",
          "name": "stdout",
          "text": [
            "Random Forest метрики:\n",
            "ROC AUC: 0.68\n",
            "Accuracy: 0.76\n",
            "Precision: 0.78\n",
            "Recall: 0.90\n",
            "\n",
            "Gradient Boosting метрики:\n",
            "ROC AUC: 0.67\n",
            "Accuracy: 0.73\n",
            "Precision: 0.79\n",
            "Recall: 0.84\n"
          ]
        }
      ],
      "source": [
        "# Обучение Random Forest\n",
        "rf_model = RandomForestClassifier(n_estimators=100, random_state=42)\n",
        "rf_model.fit(X_train, y_train)\n",
        "\n",
        "\n",
        "# Прогноз на тестовых данных\n",
        "rf_pred = rf_model.predict(X_test)\n",
        "\n",
        "# Метрики для Random Forest\n",
        "rf_roc_auc = roc_auc_score(y_test, rf_pred)\n",
        "rf_accuracy = accuracy_score(y_test, rf_pred)\n",
        "rf_precision = precision_score(y_test, rf_pred)\n",
        "rf_recall = recall_score(y_test, rf_pred)\n",
        "\n",
        "print(\"Random Forest метрики:\")\n",
        "print(f\"ROC AUC: {rf_roc_auc:.2f}\")\n",
        "print(f\"Accuracy: {rf_accuracy:.2f}\")\n",
        "print(f\"Precision: {rf_precision:.2f}\")\n",
        "print(f\"Recall: {rf_recall:.2f}\")\n",
        "\n",
        "# Обучение Gradient Boosting\n",
        "gb_model = GradientBoostingClassifier(n_estimators=100, random_state=42)\n",
        "gb_model.fit(X_train, y_train)\n",
        "\n",
        "\n",
        "# Прогноз на тестовых данных\n",
        "gb_pred = gb_model.predict(X_test)\n",
        "\n",
        "# Метрики для Gradient Boosting\n",
        "gb_roc_auc = roc_auc_score(y_test, gb_pred)\n",
        "gb_accuracy = accuracy_score(y_test, gb_pred)\n",
        "gb_precision = precision_score(y_test, gb_pred)\n",
        "gb_recall = recall_score(y_test, gb_pred)\n",
        "\n",
        "\n",
        "print(\"\\nGradient Boosting метрики:\")\n",
        "print(f\"ROC AUC: {gb_roc_auc:.2f}\")\n",
        "print(f\"Accuracy: {gb_accuracy:.2f}\")\n",
        "print(f\"Precision: {gb_precision:.2f}\")\n",
        "print(f\"Recall: {gb_recall:.2f}\")"
      ]
    },
    {
      "cell_type": "code",
      "execution_count": 9,
      "id": "ae1e040c-ddd0-4952-9dcb-58c1226da40a",
      "metadata": {
        "tags": [],
        "colab": {
          "base_uri": "https://localhost:8080/"
        },
        "id": "ae1e040c-ddd0-4952-9dcb-58c1226da40a",
        "outputId": "d7530a99-b832-4789-f596-d4b7d4e1154d"
      },
      "outputs": [
        {
          "output_type": "stream",
          "name": "stdout",
          "text": [
            "\n",
            "MLP (Neural Network) метрики:\n",
            "ROC AUC: 0.56\n",
            "Accuracy: 0.65\n",
            "Precision: 0.72\n",
            "Recall: 0.79\n",
            "MLP (Neural Network) метрики:\n",
            "ROC AUC: 0.56, Accuracy: 0.65, Precision: 0.72, Recall: 0.79\n"
          ]
        }
      ],
      "source": [
        "# Обучение MLP (Multi-Layer Perceptron) нейронной сети\n",
        "mlp_model = MLPClassifier(hidden_layer_sizes=(30,), max_iter=500, random_state=42)\n",
        "mlp_model.fit(X_train, y_train)\n",
        "\n",
        "\n",
        "# Прогноз на тестовых данных\n",
        "mlp_pred = mlp_model.predict(X_test)\n",
        "\n",
        "# Метрики для MLP\n",
        "mlp_roc_auc = roc_auc_score(y_test, mlp_pred)\n",
        "mlp_accuracy = accuracy_score(y_test, mlp_pred)\n",
        "mlp_precision = precision_score(y_test, mlp_pred)\n",
        "mlp_recall = recall_score(y_test, mlp_pred)\n",
        "\n",
        "print(\"\\nMLP (Neural Network) метрики:\")\n",
        "print(f\"ROC AUC: {mlp_roc_auc:.2f}\")\n",
        "print(f\"Accuracy: {mlp_accuracy:.2f}\")\n",
        "print(f\"Precision: {mlp_precision:.2f}\")\n",
        "print(f\"Recall: {mlp_recall:.2f}\")\n",
        "# Вывод метрик\n",
        "\n"
      ]
    },
    {
      "cell_type": "markdown",
      "id": "d2d6eb00-77fd-40dc-a3c5-35c1fe0200c0",
      "metadata": {
        "id": "d2d6eb00-77fd-40dc-a3c5-35c1fe0200c0"
      },
      "source": [
        "## Экспериментируйте\n",
        "Для получения лучшего качества придется поэкспериментировать. Подсказка: попробуйте оптимизировать гиперпараметры модели"
      ]
    }
  ],
  "metadata": {
    "kernelspec": {
      "display_name": "Python 3 (ipykernel)",
      "language": "python",
      "name": "python3"
    },
    "language_info": {
      "codemirror_mode": {
        "name": "ipython",
        "version": 3
      },
      "file_extension": ".py",
      "mimetype": "text/x-python",
      "name": "python",
      "nbconvert_exporter": "python",
      "pygments_lexer": "ipython3",
      "version": "3.11.5"
    },
    "colab": {
      "provenance": []
    }
  },
  "nbformat": 4,
  "nbformat_minor": 5
}